{
 "cells": [
  {
   "cell_type": "markdown",
   "metadata": {},
   "source": [
    "## Lambda Function"
   ]
  },
  {
   "cell_type": "markdown",
   "metadata": {},
   "source": [
    "Lambda functions are also a way of defining functions but in a different way. Lambda function is an anonymous function meaning it does not have a name unlike user defined function which requires a name. Lambda functions aren't capable of multiple expressions and can only handle single expression.\n",
    "- Syntax: - ```lambda input parameter : output parameter```\n"
   ]
  },
  {
   "cell_type": "markdown",
   "metadata": {},
   "source": [
    "Let's understand this with an example : \n",
    "- Let's say that we want to create a function that takes three input variables and returns their multiplication, we can doi it in following ways \n"
   ]
  },
  {
   "cell_type": "code",
   "execution_count": 4,
   "metadata": {},
   "outputs": [
    {
     "name": "stdout",
     "output_type": "stream",
     "text": [
      "30\n",
      "Lambda function output : 30\n"
     ]
    }
   ],
   "source": [
    "# Using def \n",
    "def product(x: int, y: int, z: int) -> int:\n",
    "    '''\n",
    "    This function takes three integers and returns multiplication of the integers.\n",
    "    \n",
    "    Parameter:\n",
    "        x(int) : First Integer\n",
    "        y(int) : Second Integer\n",
    "        z(int) : Third Integer\n",
    "    \n",
    "    Returns:\n",
    "        int : Returns multiplication of integers.\n",
    "    '''    \n",
    "    return x*y*z\n",
    "\n",
    "print(product(2,3,5))\n",
    "\n",
    "# Using lambda function\n",
    "product = lambda x, y, z : x*y*z\n",
    "\n",
    "print(\"Lambda function output :\", product(2,3,5))"
   ]
  },
  {
   "cell_type": "markdown",
   "metadata": {},
   "source": [
    "As you can see above we can create such single expression function with one line of code, hence lambda function can be very useful and can be considered as inline function  <br>\n",
    "Let's take another example:-\n",
    "- lets create a function that takes three parameter two integers and big(boolean) and returns the biggest integer if big parameter is True or smallest if big parameter is False."
   ]
  },
  {
   "cell_type": "code",
   "execution_count": 8,
   "metadata": {},
   "outputs": [
    {
     "name": "stdout",
     "output_type": "stream",
     "text": [
      "Biggest: 45\n",
      "Smallest: 23\n"
     ]
    }
   ],
   "source": [
    "# Using def \n",
    "def big_small(x: int, y: int, big: bool = True) -> int:\n",
    "    '''\n",
    "    Function to find biggest or smallest number.\n",
    "    \n",
    "    Parameter:\n",
    "        x(int) : first integer\n",
    "        y(int) : second integer\n",
    "        big(bool) : to find bigggest or smallest value, default True\n",
    "        \n",
    "    Returns:\n",
    "        int: Returns the biggest or smallest value\n",
    "    '''\n",
    "    if big:\n",
    "        if x>y:\n",
    "            return x\n",
    "        else:\n",
    "            return y\n",
    "    else:\n",
    "        if x<y:\n",
    "            return x\n",
    "        else:\n",
    "            return y\n",
    "\n",
    "print('Biggest:', big_small(23, 45))\n",
    "print('Smallest:', big_small(23, 45, False)) # this can also be written as big_small(23, 45, big=False)\n",
    "    "
   ]
  },
  {
   "cell_type": "code",
   "execution_count": 9,
   "metadata": {},
   "outputs": [
    {
     "name": "stdout",
     "output_type": "stream",
     "text": [
      "Biggest: 20\n",
      "Smallest: 21\n"
     ]
    }
   ],
   "source": [
    "# Using lambda function\n",
    "lambda_big_small = lambda x, y, big = True : (x if x>y else y) if big else (x if x<y else y)\n",
    "print('Biggest:', lambda_big_small(20, 15))\n",
    "print('Smallest:', lambda_big_small(23, 21, big=False))"
   ]
  },
  {
   "cell_type": "markdown",
   "metadata": {},
   "source": [
    "## Map Function"
   ]
  },
  {
   "cell_type": "markdown",
   "metadata": {},
   "source": [
    "Map function maps or applies the given function to each item in iterable(list, tuple etc.). Map function returns a map object that can be converted into a list, tuple etc. t is used when you need to map or implement functions on various elements at the same time.\n",
    "- Syntax : ```map(function, iterable)```"
   ]
  },
  {
   "cell_type": "markdown",
   "metadata": {},
   "source": [
    "Let's understand this with an example:\n",
    "- Let's say we want to square each item present in the list [1, 2, 3, 4, 5] we can do it in following ways:"
   ]
  },
  {
   "cell_type": "code",
   "execution_count": 11,
   "metadata": {},
   "outputs": [
    {
     "name": "stdout",
     "output_type": "stream",
     "text": [
      "[1, 4, 9, 16, 25]\n"
     ]
    }
   ],
   "source": [
    "my_list = [1, 2, 3, 4, 5]\n",
    "\n",
    "# Using for loop (not very efficient) :-\n",
    "sqr_list = []\n",
    "for i in my_list:\n",
    "    sqr_list.append(i**2)\n",
    "print(sqr_list)\n",
    "\n"
   ]
  },
  {
   "cell_type": "code",
   "execution_count": 12,
   "metadata": {},
   "outputs": [
    {
     "name": "stdout",
     "output_type": "stream",
     "text": [
      "Printing map without using list : <map object at 0x0000011EF8432C48>\n",
      "Printing map with list : [1, 4, 9, 16, 25]\n"
     ]
    }
   ],
   "source": [
    "# Using map function :-\n",
    "\n",
    "# defining function to square item\n",
    "def square_num(n: int) -> int:\n",
    "    '''\n",
    "     Function to find square of integer\n",
    "    \n",
    "    Parameter:\n",
    "        n(int) : integer to square\n",
    "        \n",
    "    Return:\n",
    "        int : returns squared integer\n",
    "    \n",
    "    '''\n",
    "    return n**2\n",
    "\n",
    "print(\"Printing map without using list :\", map(square_num, my_list))#this prints a map object cause we didn't convert it into list \n",
    "print(\"Printing map with list :\", list(map(square_num, my_list)))"
   ]
  },
  {
   "cell_type": "markdown",
   "metadata": {},
   "source": [
    "As we can see our code gets much simpler when we use map function but we can reduce our above code even further by combining map with lambda function we learned about before."
   ]
  },
  {
   "cell_type": "code",
   "execution_count": 13,
   "metadata": {},
   "outputs": [
    {
     "name": "stdout",
     "output_type": "stream",
     "text": [
      "[1, 4, 9, 16, 25]\n"
     ]
    }
   ],
   "source": [
    "# Map using lambda function\n",
    "my_list2 = list(map(lambda x: x**2, my_list))\n",
    "print(my_list2)"
   ]
  },
  {
   "cell_type": "markdown",
   "metadata": {},
   "source": [
    "Map function is very useful when we have a list of input from user and we need to typecast this input at same time(as we know input() function returns a string)\n",
    "Let's see this with an example:-\n",
    "- lets say we are taking two lists as an input from user and element wise adding both lists and creating a new list where elements of list are seperated by \",\" and lists are seperated by \" / \". we can do this as follow:"
   ]
  },
  {
   "cell_type": "code",
   "execution_count": 48,
   "metadata": {},
   "outputs": [
    {
     "name": "stdout",
     "output_type": "stream",
     "text": [
      "Enter elements of the list seperated by ' ' and lists seperated by '/' : 1 2 3 4/1 2 3 4\n",
      "[2, 4, 6, 8]\n"
     ]
    }
   ],
   "source": [
    "inp = input(\"Enter elements of the list seperated by ' ' and lists seperated by '/' : \" ) # gives us whole input as string\n",
    "\n",
    "string_1, string_2 = inp.split(\"/\") # returns 2 strings seprated by /\n",
    "list_1 = string_1.split() # creating list from string_1\n",
    "list_2 = string_2.split() # creating list from string_2\n",
    "\n",
    "# The above code can be reduced to :-\n",
    "# list_1, list_2 = map(str.split, inp.split('/'))\n",
    "\n",
    "int_list_1 = list(map(int, list_1)) # type casting list from string to int i.e. mapping/applying int() to every element in list\n",
    "int_list_2 = list(map(int, list_2))\n",
    "\n",
    "result_list = list(map(lambda x, y: x+y, int_list_1, int_list_2))\n",
    "print(result_list)"
   ]
  },
  {
   "cell_type": "markdown",
   "metadata": {},
   "source": [
    "## Filter Function\n",
    "As the name suggests filter function filters a sequence. The filter() function extracts elements from an iterable (list, tuple etc.) for which a function returns True. Just like map function this function returns filter object that can be converted into list.\n",
    "- Syntax :- ```filter(function, iterable)```"
   ]
  },
  {
   "cell_type": "markdown",
   "metadata": {},
   "source": [
    "Let's see its example\n",
    "- lets say we want to filter a list to only have even numbers. We can do it in following ways:  "
   ]
  },
  {
   "cell_type": "code",
   "execution_count": 50,
   "metadata": {},
   "outputs": [
    {
     "name": "stdout",
     "output_type": "stream",
     "text": [
      "[2, 4, 12]\n"
     ]
    }
   ],
   "source": [
    "# Using For Loop\n",
    "my_list = [2, 3, 4, 5, 12, 5, 63]\n",
    "res_list = []\n",
    "for i in my_list:\n",
    "    if i%2 == 0 :\n",
    "        res_list.append(i)\n",
    "print(res_list)"
   ]
  },
  {
   "cell_type": "code",
   "execution_count": 56,
   "metadata": {},
   "outputs": [
    {
     "name": "stdout",
     "output_type": "stream",
     "text": [
      "<filter object at 0x0000011EF81F2808>\n",
      "[2, 4, 12]\n"
     ]
    }
   ],
   "source": [
    "# Using Filter function\n",
    "\n",
    "# Defining Function\n",
    "def even(x: int) -> int:\n",
    "    '''\n",
    "    Function to check wheather a number is even or not\n",
    "    \n",
    "    Parameter:\n",
    "        x(int): Integer to be checked\n",
    "    \n",
    "    Returns:\n",
    "        bool : Returns boolean wheather the integer is even or not.\n",
    "    '''\n",
    "    if x%2 == 0:\n",
    "        return True\n",
    "    \n",
    "print(filter(even, my_list)) #prints filter object, didn't convert it into list\n",
    "print(list(filter(even, my_list)))"
   ]
  },
  {
   "cell_type": "markdown",
   "metadata": {},
   "source": [
    "As we can see our code gets much simpler when we use filter function but we can reduce our above code even further by combining map with lambda function we learned about before."
   ]
  },
  {
   "cell_type": "code",
   "execution_count": 57,
   "metadata": {},
   "outputs": [
    {
     "name": "stdout",
     "output_type": "stream",
     "text": [
      "[2, 4, 12]\n"
     ]
    }
   ],
   "source": [
    "# Filter using lambda\n",
    "lst = list(filter(lambda x: x%2 == 0, my_list))\n",
    "print(lst)"
   ]
  },
  {
   "cell_type": "markdown",
   "metadata": {},
   "source": [
    "Let's see another example:-\n",
    "- Let's say we have a paragraph and we want to filter out the words that satrts with a vowels. we can do this as follow:  \n"
   ]
  },
  {
   "cell_type": "code",
   "execution_count": 60,
   "metadata": {},
   "outputs": [
    {
     "name": "stdout",
     "output_type": "stream",
     "text": [
      "['At', 'a', 'imagine', 'on', 'it', 'It', 'away', 'and,', 'if', 'it']\n"
     ]
    }
   ],
   "source": [
    "paragraph = '''At that moment he had a thought that he'd never imagine he'd consider. \n",
    "               \"I could just cheat,\" he thought, \"and that would solve the problem.\" \n",
    "                He tried to move on from the thought but it was persistent.\n",
    "                It didn't want to go away and, if he was honest with himself,\n",
    "                he didn't want it to.'''\n",
    "\n",
    "\n",
    "# defining a fuction to check if word starts with vowel or not.\n",
    "def vowel_check(word: str) -> str:\n",
    "    vowels = ['a', 'e', 'i', 'o', 'u']\n",
    "    '''\n",
    "    Function to check wheather word starts with vowel or not\n",
    "    \n",
    "    Parameter:\n",
    "        word(str): word to be checked\n",
    "        \n",
    "    Returns:\n",
    "        bool : returns boolean that string starts with vowel or not\n",
    "    '''\n",
    "    if word[0].lower() in vowels:\n",
    "        return True\n",
    "    \n",
    "result = list(filter(vowel_check, paragraph.split())) #applying filter function and returning items that returns True.\n",
    "print(result)"
   ]
  },
  {
   "cell_type": "markdown",
   "metadata": {},
   "source": [
    "We can reduce our code even further using lambda as shown below:"
   ]
  },
  {
   "cell_type": "code",
   "execution_count": 61,
   "metadata": {},
   "outputs": [
    {
     "name": "stdout",
     "output_type": "stream",
     "text": [
      "['At', 'a', 'imagine', 'on', 'it', 'It', 'away', 'and,', 'if', 'it']\n"
     ]
    }
   ],
   "source": [
    "vowel = ['a', 'e', 'i', 'o', 'u']\n",
    "lambda_vowel_check = lambda x: True if x[0].lower() in vowel else False\n",
    "lambda_result = list(filter(lambda_vowel_check, paragraph.split()))\n",
    "print(lambda_result)"
   ]
  },
  {
   "cell_type": "markdown",
   "metadata": {},
   "source": [
    "## Reduce Function\n",
    "As the name suggests reduce function reduces the iterable into a single value by applying specified function on each item and then applying function again to resultant and next item. the reduce function is in functools module and can be used after importing it from functools module.\n",
    "- Syntax :- ```reduce(function, iterable)``` "
   ]
  },
  {
   "cell_type": "markdown",
   "metadata": {},
   "source": [
    "Let's see an example of it:-\n",
    "- Let's say we want to multiply each element in list we can do this as follow:\n"
   ]
  },
  {
   "cell_type": "code",
   "execution_count": 71,
   "metadata": {},
   "outputs": [
    {
     "name": "stdout",
     "output_type": "stream",
     "text": [
      "1008\n"
     ]
    }
   ],
   "source": [
    "# using loop (not efficient)\n",
    "my_list = [2, 3, 4, 6, 7]\n",
    "mult = 1\n",
    "for i in my_list:\n",
    "    mult = mult*i\n",
    "print(mult)"
   ]
  },
  {
   "cell_type": "code",
   "execution_count": 72,
   "metadata": {},
   "outputs": [
    {
     "name": "stdout",
     "output_type": "stream",
     "text": [
      "1008\n"
     ]
    }
   ],
   "source": [
    "# using reduce \n",
    "\n",
    "#importing reduce function\n",
    "from functools import reduce\n",
    "\n",
    "#defining function\n",
    "def multiply(x: int, y: int) -> int:\n",
    "    '''\n",
    "    Function to multiply two integer\n",
    "    \n",
    "    Parameters:\n",
    "        x(int) : First integer\n",
    "        y(int) : Second integer\n",
    "        \n",
    "    Returns:\n",
    "        int: Returns multiplication o9f two integers\n",
    "    '''\n",
    "    return x*y\n",
    "\n",
    "ans = reduce(multiply, my_list) # reducing my_list using multiply function\n",
    "print(ans)"
   ]
  },
  {
   "cell_type": "markdown",
   "metadata": {},
   "source": [
    "We can further reduce the above code as shown below"
   ]
  },
  {
   "cell_type": "code",
   "execution_count": 73,
   "metadata": {},
   "outputs": [
    {
     "name": "stdout",
     "output_type": "stream",
     "text": [
      "1008\n"
     ]
    }
   ],
   "source": [
    "ans = reduce(lambda x, y : x*y , my_list)\n",
    "print(ans)"
   ]
  },
  {
   "cell_type": "markdown",
   "metadata": {},
   "source": [
    "Lets take another example:-\n",
    "- let's say we have a list of string and we want to join those elements together into a single string seperated by '/' we can do so as following:\n"
   ]
  },
  {
   "cell_type": "code",
   "execution_count": 74,
   "metadata": {},
   "outputs": [
    {
     "name": "stdout",
     "output_type": "stream",
     "text": [
      "I/Love/Python/Programming\n"
     ]
    }
   ],
   "source": [
    "my_list = [\"I\", \"Love\", \"Python\", \"Programming\"]\n",
    "string = reduce(lambda x,y : \"%s/%s\"%(x, y), my_list)\n",
    "\n",
    "# the above code can also be written as: -\n",
    "# string = reduce(lambda x,y: \"{}/{}\".format(x,y), my_list)\n",
    "\n",
    "print(string)"
   ]
  }
 ],
 "metadata": {
  "anaconda-cloud": {},
  "kernelspec": {
   "display_name": "Python 3",
   "language": "python",
   "name": "python3"
  },
  "language_info": {
   "codemirror_mode": {
    "name": "ipython",
    "version": 3
   },
   "file_extension": ".py",
   "mimetype": "text/x-python",
   "name": "python",
   "nbconvert_exporter": "python",
   "pygments_lexer": "ipython3",
   "version": "3.8.5"
  }
 },
 "nbformat": 4,
 "nbformat_minor": 1
}
