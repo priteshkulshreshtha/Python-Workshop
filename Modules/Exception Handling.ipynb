{
 "cells": [
  {
   "cell_type": "markdown",
   "metadata": {},
   "source": [
    "### Exception Handling\n",
    "\n",
    "\n",
    "<img src = \"..\\W_Img\\EH.png\" height = 400 width = 750>"
   ]
  },
  {
   "cell_type": "code",
   "execution_count": 1,
   "metadata": {},
   "outputs": [
    {
     "name": "stdout",
     "output_type": "stream",
     "text": [
      "Something is Wrong !!!\n"
     ]
    }
   ],
   "source": [
    "# Try Except\n",
    "try:\n",
    "    a = 12 # int\n",
    "    b = 'st' # string\n",
    "    a/b\n",
    "except:\n",
    "    print(\"Something is Wrong !!!\")\n",
    "    "
   ]
  },
  {
   "cell_type": "code",
   "execution_count": 5,
   "metadata": {},
   "outputs": [
    {
     "name": "stdout",
     "output_type": "stream",
     "text": [
      "Divide by 0 is not allowed\n"
     ]
    }
   ],
   "source": [
    "# Catching Specific Errors / Multiple Errors\n",
    "try:\n",
    "    a = 12\n",
    "    b = 0\n",
    "    a/b\n",
    "except TypeError:\n",
    "    print(\"Variables are not of correct datatype !!\")\n",
    "except ZeroDivisionError:\n",
    "    print(\"Divide by 0 is not allowed\")"
   ]
  },
  {
   "cell_type": "code",
   "execution_count": 13,
   "metadata": {},
   "outputs": [
    {
     "name": "stdout",
     "output_type": "stream",
     "text": [
      "3.0\n",
      "Code ran Successfully\n"
     ]
    }
   ],
   "source": [
    "# Else\n",
    "\n",
    "try:\n",
    "    a = 12\n",
    "    b = 4\n",
    "    c =a/b\n",
    "except:\n",
    "    print(\"Error Found !!!\")\n",
    "else:\n",
    "    print(c)\n",
    "    print(\"Code ran Successfully\")"
   ]
  },
  {
   "cell_type": "code",
   "execution_count": 11,
   "metadata": {},
   "outputs": [
    {
     "name": "stdout",
     "output_type": "stream",
     "text": [
      "Error Found !!\n",
      "This will run indefinitely after try except\n"
     ]
    }
   ],
   "source": [
    "# Finally\n",
    "try:\n",
    "    a = 0\n",
    "    b = 12\n",
    "    print(b/a)\n",
    "except:\n",
    "    print(\"Error Found !!\")\n",
    "finally:\n",
    "    print(\"This will run indefinitely after try except\")"
   ]
  },
  {
   "cell_type": "code",
   "execution_count": 14,
   "metadata": {},
   "outputs": [
    {
     "name": "stdout",
     "output_type": "stream",
     "text": [
      "Enter a number upto 100: 106\n",
      "106 is out of allowed range\n"
     ]
    }
   ],
   "source": [
    "# Raise an Error\n",
    "try:\n",
    "    x=int(input('Enter a number upto 100: '))\n",
    "    if x > 100:\n",
    "        raise ValueError(x)\n",
    "except ValueError:\n",
    "    print(x, \"is out of allowed range\")\n",
    "else:\n",
    "    print(x, \"is within the allowed range\")"
   ]
  },
  {
   "cell_type": "code",
   "execution_count": null,
   "metadata": {},
   "outputs": [],
   "source": []
  }
 ],
 "metadata": {
  "kernelspec": {
   "display_name": "Python 3",
   "language": "python",
   "name": "python3"
  },
  "language_info": {
   "codemirror_mode": {
    "name": "ipython",
    "version": 3
   },
   "file_extension": ".py",
   "mimetype": "text/x-python",
   "name": "python",
   "nbconvert_exporter": "python",
   "pygments_lexer": "ipython3",
   "version": "3.8.5"
  }
 },
 "nbformat": 4,
 "nbformat_minor": 5
}
