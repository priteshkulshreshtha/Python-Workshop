{
 "cells": [
  {
   "cell_type": "markdown",
   "metadata": {},
   "source": [
    "# Python Workshop\n",
    "\n",
    "                                                                                          -- Module: Operators in Python"
   ]
  },
  {
   "cell_type": "markdown",
   "metadata": {},
   "source": [
    "### ***Index***\n",
    "\n",
    "1. **[Arithematic Operators](#E1)**\n",
    "1. **[Relational Operators](#E2)**\n",
    "1. **[Logical Operators](#E3)**\n",
    "1. **[Membership Operators](#E4)**\n",
    "1. **[Bitwise Operators](#E5)**\n",
    "1. **[Assignment Operators](#E6)**\n",
    "1. **[String Operators](#E7)**"
   ]
  },
  {
   "cell_type": "markdown",
   "metadata": {},
   "source": [
    "<hr>"
   ]
  },
  {
   "cell_type": "markdown",
   "metadata": {},
   "source": [
    "<a id = 'E1'></a>\n",
    "    \n",
    "### Arithematic Operators \n",
    "\n",
    "\n",
    "Arithmetic operators are used with numeric values to perform common mathematical operations:\n",
    "\n",
    "<img src ='..\\W_Img\\Operands.png' width = 600 height = 750/>"
   ]
  },
  {
   "cell_type": "code",
   "execution_count": 35,
   "metadata": {},
   "outputs": [
    {
     "name": "stdout",
     "output_type": "stream",
     "text": [
      "--------------------------------\n",
      "Sum         : 10 and 4 is 14\n",
      "--------------------------------\n",
      "Difference  : 10 and 4 is 6\n",
      "--------------------------------\n",
      "Product     : 10 and 4 is 40\n",
      "--------------------------------\n",
      "Division    : 10 and 4 is 2.5\n",
      "--------------------------------\n",
      "Mod         : 10 and 4 is 2\n",
      "--------------------------------\n",
      "Power       : 10 and 4 is 10000\n",
      "--------------------------------\n",
      "Floor Div   : 10 and 4 is 2\n",
      "--------------END---------------\n"
     ]
    }
   ],
   "source": [
    "a = 10\n",
    "b = 4\n",
    "\n",
    "res_dic = {\"Sum\":a+b, \n",
    "           \"Difference\":a-b, \n",
    "           \"Product\":a*b,\n",
    "           \"Division\":a/b,\n",
    "           \"Mod\": a%b,\n",
    "           \"Power\":a**b,\n",
    "           \"Floor Div\":a//b} \n",
    "\n",
    "for key, val in res_dic.items():\n",
    "    print(\"--------------------------------\")\n",
    "    print(f\"{key:11} : {a} and {b} is {val}\")\n",
    "else:\n",
    "    print(\"--------------END---------------\")"
   ]
  },
  {
   "cell_type": "markdown",
   "metadata": {},
   "source": [
    "<hr>\n",
    "<a id = 'E2'></a>\n",
    "\n",
    "### Relational Operators\n",
    "Relational operators are used to compare two values:\n",
    "\n",
    "<img src = \"..\\W_Img\\Relation.png\" width= 750 height = 550 >"
   ]
  },
  {
   "cell_type": "code",
   "execution_count": 4,
   "metadata": {},
   "outputs": [
    {
     "name": "stdout",
     "output_type": "stream",
     "text": [
      "------------------------\n",
      "Is 10 <  4 :\tFalse\n",
      "------------------------\n",
      "Is 10 >  4 :\tTrue\n",
      "------------------------\n",
      "Is 10 <= 4 :\tFalse\n",
      "------------------------\n",
      "Is 10 >= 4 :\tTrue\n",
      "------------------------\n",
      "Is 10 == 4 :\tFalse\n",
      "------------------------\n",
      "Is 10 != 4 :\tTrue\n",
      "----------END-----------\n"
     ]
    }
   ],
   "source": [
    "a = 10\n",
    "b = 4\n",
    "\n",
    "res_dic = {\"<\":a<b, \n",
    "           \">\":a>b, \n",
    "           \"<=\":a<=b,\n",
    "           \">=\":a>=b,\n",
    "           \"==\": a==b,\n",
    "           \"!=\":a!=b} \n",
    "\n",
    "for key, val in res_dic.items():\n",
    "    print(\"------------------------\")\n",
    "    print(f\"Is {a} {key:2} {b} :\",f\"{val}\",sep = '\\t')\n",
    "else:\n",
    "    print(\"----------END-----------\")"
   ]
  },
  {
   "cell_type": "markdown",
   "metadata": {},
   "source": [
    "<hr>\n",
    "<a id = 'E3'></a>\n",
    "\n",
    "### Logical Operators\n",
    "\n",
    "Logical operators are used to combine conditional statements:\n",
    "\n",
    "<img src=\"..\\W_Img\\Logical.png\" width = 750 height = 300>"
   ]
  },
  {
   "cell_type": "code",
   "execution_count": 9,
   "metadata": {},
   "outputs": [
    {
     "name": "stdout",
     "output_type": "stream",
     "text": [
      "Edge point\n",
      "    2\n",
      "    3\n",
      "    4\n",
      "    5\n",
      "    6\n",
      "    7\n",
      "    8\n",
      "Edge point\n"
     ]
    }
   ],
   "source": [
    "for x in range(10):\n",
    "    if x<=8 and x>=2:\n",
    "        print(f\"{x:5}\")\n",
    "    if x==1 or x==9:\n",
    "        print(f\"Edge point\")"
   ]
  },
  {
   "cell_type": "markdown",
   "metadata": {},
   "source": [
    "<hr>\n",
    "<a id = 'E4'></a>\n",
    "\n",
    "### Membership Functions\n",
    "\n",
    "Membership operators are used to test if a sequence is presented in an object:\n",
    "\n",
    "<img src=\"..\\W_Img\\Mem.png\" width = 750 height = 300>"
   ]
  },
  {
   "cell_type": "code",
   "execution_count": 51,
   "metadata": {},
   "outputs": [
    {
     "name": "stdout",
     "output_type": "stream",
     "text": [
      "King is a member of the Royal Family\n",
      "Elder is not a member of the Royal Family\n"
     ]
    }
   ],
   "source": [
    "obj = [\"King\",\"Elder\"]\n",
    "Family = [\"King\",\"Queen\",\"Prince\",\"Princess\"]\n",
    "\n",
    "for obj in obj:\n",
    "    if obj in Family:\n",
    "        print(f\"{obj} is a member of the Royal Family\")\n",
    "    else:\n",
    "        print(f\"{obj} is not a member of the Royal Family\")\n",
    "        "
   ]
  },
  {
   "cell_type": "markdown",
   "metadata": {},
   "source": [
    "<hr>\n",
    "\n",
    "<a id = 'E5'></a>\n",
    "\n",
    "### Bitwise Operators\n",
    "\n",
    "Bitwise operators are used to compare (binary) numbers:\n",
    "\n",
    "<img src=\"..\\W_Img\\bit.png\" width = 750 height = 300>"
   ]
  },
  {
   "cell_type": "code",
   "execution_count": 11,
   "metadata": {},
   "outputs": [
    {
     "name": "stdout",
     "output_type": "stream",
     "text": [
      "Decimal Equivalent of 0b1010101 is 85\n",
      "Decimal Equivalent of 0b1111011 is 123\n",
      "---------------------------------\n",
      "85 &  123 : 81 (0b1010001)\n",
      "---------------------------------\n",
      "85 |  123 : 127 (0b1111111)\n",
      "---------------------------------\n",
      "85 ^  123 : 46 (0b101110)\n",
      "---------------------------------\n",
      "~85 : -86 (-0b1010110)\n",
      "---------------------------------\n",
      "85<<2: 340 (0b101010100)\n",
      "---------------------------------\n",
      "85>>2: 21 (0b10101)\n",
      "---------------END---------------\n"
     ]
    }
   ],
   "source": [
    "n = 0b1010101 # Writing Binary Number with \"0b\" as prefix\n",
    "t = 0b1111011\n",
    "\n",
    "print(f\"Decimal Equivalent of {bin(n)} is {n}\",\n",
    "      f\"Decimal Equivalent of {bin(t)} is {t}\",sep=\"\\n\")\n",
    "\n",
    "res_dic = {\"&\":n&t, \n",
    "           \"|\":n|t, \n",
    "           \"^\":n^t,\n",
    "           \"~\":~n,\n",
    "           \"<<\": n<<2,\n",
    "           \">>\":n>>2} \n",
    "\n",
    "for key, val in res_dic.items():\n",
    "    print(\"---------------------------------\")\n",
    "    if key not in [\"~\",\"<<\",\">>\"]: \n",
    "        print(f\"{n} {key:2} {t} : {val} ({bin(val)})\")\n",
    "    elif key in [\"~\"]:\n",
    "        print(f\"{key}{n} : {val} ({bin(val)})\")\n",
    "    else:\n",
    "        print(f\"{n}{key}2: {val} ({bin(val)})\")\n",
    "else:\n",
    "    print(\"---------------END---------------\")"
   ]
  },
  {
   "cell_type": "markdown",
   "metadata": {},
   "source": [
    "<hr>\n",
    "<a id = 'E6'></a>\n",
    "\n",
    "### Assignment Operators \n",
    "\n",
    "Assignment operators are used to assign values to variables. We can use any Arithematic or Bitwise Operators followed by \"=\" sign to assign the result to original variable.\n",
    "\n",
    "<img src=\"..\\W_Img\\Assignment.png\" width = 750 height = 300>"
   ]
  },
  {
   "cell_type": "code",
   "execution_count": 29,
   "metadata": {},
   "outputs": [
    {
     "name": "stdout",
     "output_type": "stream",
     "text": [
      "Updated Value of x = 27\n"
     ]
    }
   ],
   "source": [
    "x = 16\n",
    "x += 11\n",
    "print(f\"Updated Value of x = {x}\")"
   ]
  },
  {
   "cell_type": "markdown",
   "metadata": {},
   "source": [
    "<hr>\n",
    "<a id = 'E7'></a>\n",
    "\n",
    "### String Operators"
   ]
  },
  {
   "cell_type": "code",
   "execution_count": 1,
   "metadata": {},
   "outputs": [
    {
     "name": "stdout",
     "output_type": "stream",
     "text": [
      "First String:           lol!!\n",
      "Second String:          that's messed up\n",
      "Concatenated String:    lol!!that's messed up\n",
      "\n",
      "repeat string lol!! 4 times:\n",
      "lol!!lol!!lol!!lol!!\n",
      "\\___/\\___/\\___/\\___/\n",
      "  1    2    3    4  "
     ]
    }
   ],
   "source": [
    "a = \"lol!!\"\n",
    "b = \"that's messed up\"\n",
    "\n",
    "# Concatenate\n",
    "\n",
    "print(f\"First String:           {a}\",\n",
    "      f\"Second String:          {b}\",\n",
    "      f\"Concatenated String:    {a+b}\",\n",
    "      sep= '\\n',\n",
    "      end=\"\\n\\n\")\n",
    "\n",
    "# Repetition\n",
    "print(f\"repeat string {a} {4} times:\",a*4,sep=\"\\n\")\n",
    "print(\"\\___/\"*4)\n",
    "for n in range(1,5):\n",
    "    print(f\"  {n}  \",end=\"\")"
   ]
  },
  {
   "cell_type": "markdown",
   "metadata": {},
   "source": [
    "   > **THE END**"
   ]
  }
 ],
 "metadata": {
  "kernelspec": {
   "display_name": "Python 3",
   "language": "python",
   "name": "python3"
  },
  "language_info": {
   "codemirror_mode": {
    "name": "ipython",
    "version": 3
   },
   "file_extension": ".py",
   "mimetype": "text/x-python",
   "name": "python",
   "nbconvert_exporter": "python",
   "pygments_lexer": "ipython3",
   "version": "3.8.5"
  }
 },
 "nbformat": 4,
 "nbformat_minor": 5
}
